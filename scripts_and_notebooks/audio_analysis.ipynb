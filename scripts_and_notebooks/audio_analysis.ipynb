{
 "cells": [
  {
   "cell_type": "markdown",
   "metadata": {},
   "source": [
    "### Datasets with audio analysis\n",
    "[Billboard](https://drive.google.com/open?id=10wzAdM6AfbuMdTzA74zjjvDZbcxgTNXG)  \n",
    "[OCC](https://drive.google.com/open?id=1FOxNSA7CWhXJbCco4lDnVU5Pwab_d9ep)"
   ]
  },
  {
   "cell_type": "code",
   "execution_count": 1,
   "metadata": {},
   "outputs": [],
   "source": [
    "import pandas as pd \n",
    "import numpy as np \n",
    "billboard = pd.read_csv('billboard_including_features_and_analysis.csv')"
   ]
  },
  {
   "cell_type": "code",
   "execution_count": 2,
   "metadata": {},
   "outputs": [
    {
     "name": "stdout",
     "output_type": "stream",
     "text": [
      "<class 'pandas.core.frame.DataFrame'>\n",
      "RangeIndex: 2837 entries, 0 to 2836\n",
      "Data columns (total 20 columns):\n",
      "acousticness        2837 non-null float64\n",
      "artist              2837 non-null object\n",
      "audio_analysis      2837 non-null object\n",
      "danceability        2837 non-null float64\n",
      "day                 2837 non-null float64\n",
      "duration_ms         2837 non-null float64\n",
      "energy              2837 non-null float64\n",
      "instrumentalness    2837 non-null float64\n",
      "key                 2837 non-null float64\n",
      "liveness            2837 non-null float64\n",
      "loudness            2837 non-null float64\n",
      "mode                2837 non-null float64\n",
      "month               2837 non-null float64\n",
      "position            2837 non-null float64\n",
      "speechiness         2837 non-null float64\n",
      "tempo               2837 non-null float64\n",
      "time_signature      2837 non-null float64\n",
      "title               2837 non-null object\n",
      "valence             2837 non-null float64\n",
      "year                2837 non-null float64\n",
      "dtypes: float64(17), object(3)\n",
      "memory usage: 443.4+ KB\n"
     ]
    }
   ],
   "source": [
    "billboard.info()"
   ]
  },
  {
   "cell_type": "code",
   "execution_count": 82,
   "metadata": {},
   "outputs": [
    {
     "name": "stdout",
     "output_type": "stream",
     "text": [
      "Computed: 2836/2837\r"
     ]
    }
   ],
   "source": [
    "from ast import literal_eval\n",
    "import scipy.stats as stats\n",
    "\n",
    "def build_timbre_matrix(song_dict):\n",
    "    timbre_matrix = []\n",
    "    for segment in song_dict[\"segments\"]:\n",
    "        timbre_matrix.append(segment[\"timbre\"])\n",
    "    return np.array(timbre_matrix)\n",
    "\n",
    "def build_beat_list(song_dict):\n",
    "    beats = []\n",
    "    for beat in song_dict[\"beats\"]:\n",
    "        beats.append(beat[\"duration\"])\n",
    "    return np.array(beats)\n",
    "\n",
    "df_with_stats = pd.DataFrame()\n",
    "for index, row in billboard.iterrows():   \n",
    "    segments = literal_eval(row['audio_analysis'])\n",
    "    timbre_matrix = build_timbre_matrix(segments)\n",
    "    beats = build_beat_list(segments)\n",
    "    \n",
    "    audio_analysis = {}\n",
    "    audio_analysis[\"timbre_%d_mean\"] = np.mean(timbre_matrix, axis=0)\n",
    "    audio_analysis[\"timbre_%d_std\"] = np.std(timbre_matrix, axis=0)\n",
    "    audio_analysis[\"timbre_%d_var\"] = np.var(timbre_matrix, axis=0)\n",
    "    audio_analysis[\"timbre_%d_median\"] = np.median(timbre_matrix, axis=0)\n",
    "    audio_analysis[\"timbre_%d_max\"] = np.max(timbre_matrix, axis=0)\n",
    "    audio_analysis[\"timbre_%d_min\"] = np.min(timbre_matrix, axis=0)\n",
    "    audio_analysis[\"timbre_%d_range\"] = np.ptp(timbre_matrix, axis=0)\n",
    "    audio_analysis[\"timbre_%d_percentile\"] = np.percentile(timbre_matrix, q=80, axis=0)\n",
    "    audio_analysis[\"timbre_%d_skewness\"] = stats.skew(timbre_matrix, axis=0)\n",
    "    audio_analysis[\"timbre_%d_kurtosis\"] = stats.kurtosis(timbre_matrix, axis=0)\n",
    "    \n",
    "    song = row.to_dict()\n",
    "    del song['audio_analysis']\n",
    "    song[\"beatdiff_mean\"] = np.mean(beats)\n",
    "    song[\"beatdiff_std\"] = np.std(beats) \n",
    "    song[\"beatdiff_var\"] = np.var(beats) \n",
    "    song[\"beatdiff_median\"] = np.median(beats) \n",
    "    song[\"beatdiff_max\"] = np.max(beats) \n",
    "    song[\"beatdiff_min\"] = np.min(beats) \n",
    "    song[\"beatdiff_range\"] = np.ptp(beats) \n",
    "    song[\"beatdiff_percentile\"] = np.percentile(beats, q=80) \n",
    "    song[\"beatdiff_skewness\"] = stats.skew(beats) \n",
    "    song[\"beatdiff_kurtosis\"] = stats.kurtosis(beats)  \n",
    "    \n",
    "    for stat in audio_analysis: \n",
    "        for i in range(len(audio_analysis[stat])):\n",
    "            key = stat % (i+1)\n",
    "            song[key] = audio_analysis[stat][i]\n",
    "\n",
    "    \n",
    "    df_with_stats = df_with_stats.append(song, ignore_index=True)\n",
    "    print('Computed: %s/%s' % (str(index).rjust(len(str(len(billboard.index)))), len(billboard.index)), end='\\r')\n",
    "\n"
   ]
  },
  {
   "cell_type": "code",
   "execution_count": 83,
   "metadata": {},
   "outputs": [],
   "source": [
    "df_with_stats.to_csv('billboard_with_stats.csv', index=False)"
   ]
  },
  {
   "cell_type": "code",
   "execution_count": 85,
   "metadata": {},
   "outputs": [
    {
     "name": "stdout",
     "output_type": "stream",
     "text": [
      "<class 'pandas.core.frame.DataFrame'>\n",
      "RangeIndex: 2837 entries, 0 to 2836\n",
      "Columns: 149 entries, acousticness to year\n",
      "dtypes: float64(147), object(2)\n",
      "memory usage: 3.2+ MB\n"
     ]
    }
   ],
   "source": [
    "df_with_stats.info()"
   ]
  },
  {
   "cell_type": "code",
   "execution_count": 3,
   "metadata": {},
   "outputs": [
    {
     "name": "stdout",
     "output_type": "stream",
     "text": [
      "Computed: 674/675\r"
     ]
    }
   ],
   "source": [
    "import pandas as pd \n",
    "import numpy as np \n",
    "from ast import literal_eval\n",
    "import scipy.stats as stats\n",
    "officialcharts = pd.read_csv('officialcharts_including_features_and_analysis.csv')\n",
    "\n",
    "def build_timbre_matrix(song_dict):\n",
    "    timbre_matrix = []\n",
    "    for segment in song_dict[\"segments\"]:\n",
    "        timbre_matrix.append(segment[\"timbre\"])\n",
    "    return np.array(timbre_matrix)\n",
    "\n",
    "def build_beat_list(song_dict):\n",
    "    beats = []\n",
    "    for beat in song_dict[\"beats\"]:\n",
    "        beats.append(beat[\"duration\"])\n",
    "    return np.array(beats)\n",
    "\n",
    "df_with_stats = pd.DataFrame()\n",
    "for index, row in officialcharts.iterrows():   \n",
    "    segments = literal_eval(row['audio_analysis'])\n",
    "    timbre_matrix = build_timbre_matrix(segments)\n",
    "    beats = build_beat_list(segments)\n",
    "    \n",
    "    audio_analysis = {}\n",
    "    audio_analysis[\"timbre_%d_mean\"] = np.mean(timbre_matrix, axis=0)\n",
    "    audio_analysis[\"timbre_%d_std\"] = np.std(timbre_matrix, axis=0)\n",
    "    audio_analysis[\"timbre_%d_var\"] = np.var(timbre_matrix, axis=0)\n",
    "    audio_analysis[\"timbre_%d_median\"] = np.median(timbre_matrix, axis=0)\n",
    "    audio_analysis[\"timbre_%d_max\"] = np.max(timbre_matrix, axis=0)\n",
    "    audio_analysis[\"timbre_%d_min\"] = np.min(timbre_matrix, axis=0)\n",
    "    audio_analysis[\"timbre_%d_range\"] = np.ptp(timbre_matrix, axis=0)\n",
    "    audio_analysis[\"timbre_%d_percentile\"] = np.percentile(timbre_matrix, q=80, axis=0)\n",
    "    audio_analysis[\"timbre_%d_skewness\"] = stats.skew(timbre_matrix, axis=0)\n",
    "    audio_analysis[\"timbre_%d_kurtosis\"] = stats.kurtosis(timbre_matrix, axis=0)\n",
    "    \n",
    "    song = row.to_dict()\n",
    "    del song['audio_analysis']\n",
    "    song[\"beatdiff_mean\"] = np.mean(beats)\n",
    "    song[\"beatdiff_std\"] = np.std(beats) \n",
    "    song[\"beatdiff_var\"] = np.var(beats) \n",
    "    song[\"beatdiff_median\"] = np.median(beats) \n",
    "    song[\"beatdiff_max\"] = np.max(beats) \n",
    "    song[\"beatdiff_min\"] = np.min(beats) \n",
    "    song[\"beatdiff_range\"] = np.ptp(beats) \n",
    "    song[\"beatdiff_percentile\"] = np.percentile(beats, q=80) \n",
    "    song[\"beatdiff_skewness\"] = stats.skew(beats) \n",
    "    song[\"beatdiff_kurtosis\"] = stats.kurtosis(beats)  \n",
    "    \n",
    "    for stat in audio_analysis: \n",
    "        for i in range(len(audio_analysis[stat])):\n",
    "            key = stat % (i+1)\n",
    "            song[key] = audio_analysis[stat][i]\n",
    "\n",
    "    \n",
    "    df_with_stats = df_with_stats.append(song, ignore_index=True)\n",
    "    print('Computed: %s/%s' % (str(index).rjust(len(str(len(officialcharts.index)))), len(officialcharts.index)), end='\\r')\n",
    "\n"
   ]
  },
  {
   "cell_type": "code",
   "execution_count": 4,
   "metadata": {},
   "outputs": [],
   "source": [
    "df_with_stats.to_csv('officialcharts_with_stats.csv', index=False)"
   ]
  }
 ],
 "metadata": {
  "kernelspec": {
   "display_name": "Python 3",
   "language": "python",
   "name": "python3"
  },
  "language_info": {
   "codemirror_mode": {
    "name": "ipython",
    "version": 3
   },
   "file_extension": ".py",
   "mimetype": "text/x-python",
   "name": "python",
   "nbconvert_exporter": "python",
   "pygments_lexer": "ipython3",
   "version": "3.6.3"
  }
 },
 "nbformat": 4,
 "nbformat_minor": 2
}
