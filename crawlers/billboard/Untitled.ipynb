{
 "cells": [
  {
   "cell_type": "code",
   "execution_count": 67,
   "metadata": {},
   "outputs": [
    {
     "data": {
      "text/plain": [
       "rdd = MapPartitionsRDD[111] at rdd at <console>:29\n",
       "dataframe = [position: string, title: string ... 4 more fields]\n"
      ]
     },
     "metadata": {},
     "output_type": "display_data"
    },
    {
     "data": {
      "text/plain": [
       "111005"
      ]
     },
     "execution_count": 67,
     "metadata": {},
     "output_type": "execute_result"
    }
   ],
   "source": [
    "val rdd = spark.read.format(\"csv\").option(\"header\", \"true\").load(\"billboard.csv\").rdd\n",
    "val dataframe = spark.read.format(\"csv\").option(\"header\", \"true\").load(\"billboard.csv\")\n",
    "\n",
    "rdd.count()"
   ]
  },
  {
   "cell_type": "code",
   "execution_count": 66,
   "metadata": {},
   "outputs": [
    {
     "data": {
      "text/plain": [
       "Name: Unknown Error\n",
       "Message: <console>:33: error: value slice is not a member of org.apache.spark.sql.Row\n",
       "       val newRDD = rdd.map(x => (x(1), x.slice(2,5))).take(1)\n",
       "                                          ^\n",
       "\n",
       "StackTrace: "
      ]
     },
     "execution_count": 66,
     "metadata": {},
     "output_type": "execute_result"
    }
   ],
   "source": [
    "val listerino = List(1,2,3,4,5,6)\n",
    "//print(listerino[1:2])\n",
    "val row = rdd.take(1)\n",
    "print(\"yo\" + row(0)(1))\n",
    "val newRDD = rdd.map(x => (x(1), x.slice(2,5))).take(1)\n",
    "\n",
    "\n",
    "//rdd.map(x => (x(1), x) ).distinct().count()"
   ]
  }
 ],
 "metadata": {
  "kernelspec": {
   "display_name": "Spark - Scala",
   "language": "scala",
   "name": "spark_scala"
  },
  "language_info": {
   "codemirror_mode": "text/x-scala",
   "file_extension": ".scala",
   "mimetype": "text/x-scala",
   "name": "scala",
   "pygments_lexer": "scala",
   "version": "2.11.12"
  }
 },
 "nbformat": 4,
 "nbformat_minor": 2
}
